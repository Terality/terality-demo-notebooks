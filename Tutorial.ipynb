{
 "cells": [
  {
   "cell_type": "markdown",
   "id": "ee201f2a-f2a7-4f56-896e-d86c9b30f6c6",
   "metadata": {},
   "source": [
    "Getting started with Terality\n",
    "================="
   ]
  },
  {
   "cell_type": "markdown",
   "id": "39169c7b-e4d7-4e63-a0bf-5bef839406c2",
   "metadata": {},
   "source": [
    "## Setup"
   ]
  },
  {
   "cell_type": "markdown",
   "id": "6374d8ac-c890-4ae4-9386-4fbc5228dfc5",
   "metadata": {},
   "source": [
    "Ensure you have created your Terality account by following the two easy steps [here](https://docs.terality.com/getting-terality/quick-start/setup)."
   ]
  },
  {
   "cell_type": "markdown",
   "id": "8e585952-8cab-411b-92e2-6324845374c7",
   "metadata": {
    "tags": []
   },
   "source": [
    "## First steps"
   ]
  },
  {
   "cell_type": "markdown",
   "id": "6288fd6e-9714-4fc7-aaa9-a16b96fb4ceb",
   "metadata": {},
   "source": [
    "Terality exposes dataframes and other data structures with exactly the same API as pandas. No need to learn a new framework, just import the package and start processing data exactly as in pandas!"
   ]
  },
  {
   "cell_type": "code",
   "execution_count": 1,
   "id": "03914e93-723e-4d58-aaa9-86494be62c76",
   "metadata": {},
   "outputs": [],
   "source": [
    "import pandas as pd\n",
    "import terality as te"
   ]
  },
  {
   "cell_type": "markdown",
   "id": "0ec1c442-e066-4d6c-a76e-6b816460744c",
   "metadata": {},
   "source": [
    " An easy way to get started and create a `terality.DataFrame` is by importing a `pandas.DataFrame` using the function `from_pandas`:"
   ]
  },
  {
   "cell_type": "code",
   "execution_count": 2,
   "id": "65ba6186-7a39-4116-bc82-2f23b929e360",
   "metadata": {},
   "outputs": [],
   "source": [
    "df_pd = pd.DataFrame({\"a\": [1, 4, 9], \"b\": [\"hello\", \"world\", \"!\"]})\n",
    "df_te = te.DataFrame.from_pandas(df_pd)"
   ]
  },
  {
   "cell_type": "markdown",
   "id": "f2c73a6d-46d3-4170-8c5a-6218520eae0d",
   "metadata": {},
   "source": [
    "A `terality.DataFrame` is a different class than a pandas DataFrame, but they look, feel, behave and have the same API than their pandas equivalent."
   ]
  },
  {
   "cell_type": "code",
   "execution_count": 3,
   "id": "40b0d0cd-08dd-4101-9897-86bbe2f0d566",
   "metadata": {},
   "outputs": [
    {
     "data": {
      "text/html": [
       "<div>\n",
       "<style scoped>\n",
       "    .dataframe tbody tr th:only-of-type {\n",
       "        vertical-align: middle;\n",
       "    }\n",
       "\n",
       "    .dataframe tbody tr th {\n",
       "        vertical-align: top;\n",
       "    }\n",
       "\n",
       "    .dataframe thead th {\n",
       "        text-align: right;\n",
       "    }\n",
       "</style>\n",
       "<table border=\"1\" class=\"dataframe\">\n",
       "  <thead>\n",
       "    <tr style=\"text-align: right;\">\n",
       "      <th></th>\n",
       "      <th>a</th>\n",
       "      <th>b</th>\n",
       "    </tr>\n",
       "  </thead>\n",
       "  <tbody>\n",
       "    <tr>\n",
       "      <th>0</th>\n",
       "      <td>1</td>\n",
       "      <td>hello</td>\n",
       "    </tr>\n",
       "    <tr>\n",
       "      <th>1</th>\n",
       "      <td>4</td>\n",
       "      <td>world</td>\n",
       "    </tr>\n",
       "    <tr>\n",
       "      <th>2</th>\n",
       "      <td>9</td>\n",
       "      <td>!</td>\n",
       "    </tr>\n",
       "  </tbody>\n",
       "</table>\n",
       "</div>"
      ],
      "text/plain": [
       "   a      b\n",
       "0  1  hello\n",
       "1  4  world\n",
       "2  9      !"
      ]
     },
     "execution_count": 3,
     "metadata": {},
     "output_type": "execute_result"
    }
   ],
   "source": [
    "df_te"
   ]
  },
  {
   "cell_type": "code",
   "execution_count": 4,
   "id": "91d261d0-fc8c-43c5-a407-c26a33d79a51",
   "metadata": {},
   "outputs": [
    {
     "name": "stdout",
     "output_type": "stream",
     "text": [
      "<class 'terality.DataFrame'>\n",
      "Index: 3 entries, 0 to 2\n",
      "Data columns (total 2 columns):\n",
      " #   Column  Non-Null Count  Dtype\n",
      "---  ------  --------------  -----\n",
      " 0   a       3 non-null      int64\n",
      " 1   b       3 non-null      object\n",
      "dtypes: int64(1), object(1)\n",
      "memory usage: 230 bytes (run with deep=True)\n"
     ]
    }
   ],
   "source": [
    "df_te.info()"
   ]
  },
  {
   "cell_type": "code",
   "execution_count": 5,
   "id": "d103d058-072b-4fa5-afbd-fa9bf5747027",
   "metadata": {},
   "outputs": [
    {
     "data": {
      "text/html": [
       "<div>\n",
       "<style scoped>\n",
       "    .dataframe tbody tr th:only-of-type {\n",
       "        vertical-align: middle;\n",
       "    }\n",
       "\n",
       "    .dataframe tbody tr th {\n",
       "        vertical-align: top;\n",
       "    }\n",
       "\n",
       "    .dataframe thead th {\n",
       "        text-align: right;\n",
       "    }\n",
       "</style>\n",
       "<table border=\"1\" class=\"dataframe\">\n",
       "  <thead>\n",
       "    <tr style=\"text-align: right;\">\n",
       "      <th></th>\n",
       "      <th>a</th>\n",
       "      <th>b</th>\n",
       "    </tr>\n",
       "  </thead>\n",
       "  <tbody>\n",
       "    <tr>\n",
       "      <th>1</th>\n",
       "      <td>4</td>\n",
       "      <td>world</td>\n",
       "    </tr>\n",
       "  </tbody>\n",
       "</table>\n",
       "</div>"
      ],
      "text/plain": [
       "   a      b\n",
       "1  4  world"
      ]
     },
     "execution_count": 5,
     "metadata": {},
     "output_type": "execute_result"
    }
   ],
   "source": [
    "df_te[(df_te[\"a\"] >= 2) & (df_te[\"b\"].str.len() > 3)]"
   ]
  },
  {
   "cell_type": "markdown",
   "id": "0090465c-1919-4777-8257-28ff7aa90b42",
   "metadata": {},
   "source": [
    "We can go back to a `pd.DataFrame` if needed by using `to_pandas()`:"
   ]
  },
  {
   "cell_type": "code",
   "execution_count": 6,
   "id": "41c5a372-f94f-45c8-ae51-f497da93a11e",
   "metadata": {},
   "outputs": [],
   "source": [
    "df_pd_roundtrip = df_te.to_pandas()"
   ]
  },
  {
   "cell_type": "code",
   "execution_count": 7,
   "id": "afe1355e-0ae5-4394-aef7-713ec5c4e673",
   "metadata": {},
   "outputs": [],
   "source": [
    "pd.testing.assert_frame_equal(df_pd, df_pd_roundtrip)"
   ]
  },
  {
   "cell_type": "markdown",
   "id": "ca1d8577-258a-4050-b937-f98d953c8d53",
   "metadata": {},
   "source": [
    "We ran our example on a `DataFrame`, but the same applies to `Index`, `Series` and other pandas data structures."
   ]
  },
  {
   "cell_type": "markdown",
   "id": "dc48db33-5bc1-4faf-9d7c-f58a112a4a00",
   "metadata": {},
   "source": [
    "## Processing data at scale"
   ]
  },
  {
   "cell_type": "markdown",
   "id": "29ead435-fd85-44f0-9bf9-24a359b72868",
   "metadata": {},
   "source": [
    "Our first steps were here to show you the very basics of Terality, but obviously there is little value in using a distributed processing solution for a dataframe with 3 lines. In this section, we are going to show you the real power of Terality!\n",
    "\n",
    "Terality can provide value whenever you start to run in one of these two problems:\n",
    "- memory errors\n",
    "- slow computations\n",
    "\n",
    "This will of course depend on your setting, but generally our users report that they benefit from using Terality for datasets over 1GB (memory size once loaded in pandas). And note that whatever data size you process, you will have no infrastructure to manage, everything is handled on Terality's side."
   ]
  },
  {
   "cell_type": "markdown",
   "id": "c38f7f96-9d64-448e-acd3-2f77b5c88fd9",
   "metadata": {},
   "source": [
    "### Importing data"
   ]
  },
  {
   "cell_type": "markdown",
   "id": "fecfd31e-126b-4b21-a486-ef95255836f7",
   "metadata": {},
   "source": [
    "Let's start by importing some data. To enable you to run the tutorial yourself, we provide an open dataset to experiment on. This dataset contains all the reddit comments from May 2015, and is about 38GB once loaded in memory in pandas. Obviously, this is probably a little too much to run on your computer, that's what Terality is here for.\n",
    "\n",
    "This dataset is stored in parquet (an efficient and modern data format) on AWS S3. In general you can import data from your own disk or cloud provider (such as AWS S3)."
   ]
  },
  {
   "cell_type": "code",
   "execution_count": 8,
   "id": "99b04880-332f-48bc-9d7f-d55795d988de",
   "metadata": {
    "tags": []
   },
   "outputs": [
    {
     "name": "stdout",
     "output_type": "stream",
     "text": [
      "CPU times: user 220 ms, sys: 27.2 ms, total: 247 ms\n",
      "Wall time: 38.7 s\n"
     ]
    }
   ],
   "source": [
    "%%time\n",
    "s3_folder = \"s3://terality-public/datasets/reddit/full/\"\n",
    "comments = te.read_parquet(f\"{s3_folder}comments/\")"
   ]
  },
  {
   "cell_type": "markdown",
   "id": "6e28dc99-26b0-4163-8d7c-2761bc972a28",
   "metadata": {},
   "source": [
    "### First explorations"
   ]
  },
  {
   "cell_type": "markdown",
   "id": "7b7abc8e-cc92-4924-83fc-3af2483539fc",
   "metadata": {},
   "source": [
    "Let's take a first look at what the data looks like."
   ]
  },
  {
   "cell_type": "code",
   "execution_count": 9,
   "id": "17073092-2edb-4045-8fe9-2340153ec306",
   "metadata": {
    "tags": []
   },
   "outputs": [
    {
     "name": "stdout",
     "output_type": "stream",
     "text": [
      "<class 'terality.DataFrame'>\n",
      "Index: 54504400 entries, 0 to 54504399\n",
      "Data columns (total 18 columns):\n",
      " #   Column            Non-Null Count  Dtype\n",
      "---  ------            --------------  -----\n",
      " 0   id                54504400 non-null  object\n",
      " 1   link_id           54504400 non-null  object\n",
      " 2   parent_id         54504400 non-null  object\n",
      " 3   name              54504400 non-null  object\n",
      " 4   author            54504400 non-null  object\n",
      " 5   subreddit_id      54504400 non-null  object\n",
      " 6   created_utc       54504400 non-null  int64\n",
      " 7   retrieved_on      54504400 non-null  int64\n",
      " 8   score             54504400 non-null  int64\n",
      " 9   ups               54504400 non-null  int64\n",
      "10   downs             54504400 non-null  int64\n",
      "11   gilded            54504400 non-null  int64\n",
      "12   distinguished     442611 non-null  object\n",
      "13   controversiality  54504400 non-null  int64\n",
      "14   score_hidden      54504400 non-null  int64\n",
      "15   edited            54504400 non-null  int64\n",
      "16   archived          54504400 non-null  int64\n",
      "17   body              54504400 non-null  object\n",
      "dtypes: object(8), int64(10)\n",
      "memory usage: 37.8 GB (run with deep=True)\n"
     ]
    }
   ],
   "source": [
    "comments.info(memory_usage=\"deep\")"
   ]
  },
  {
   "cell_type": "markdown",
   "id": "56505db4-4c1f-435a-a0a3-232c674acb53",
   "metadata": {},
   "source": [
    "Nearly 38 GB and 54M rows!\n",
    "\n",
    "The data can be displayed exactly as a `pd.DataFrame`:"
   ]
  },
  {
   "cell_type": "code",
   "execution_count": 10,
   "id": "25c2ab3b-f90f-484a-a773-37d8c1d95602",
   "metadata": {
    "tags": []
   },
   "outputs": [
    {
     "data": {
      "text/html": [
       "<div>\n",
       "<style scoped>\n",
       "    .dataframe tbody tr th:only-of-type {\n",
       "        vertical-align: middle;\n",
       "    }\n",
       "\n",
       "    .dataframe tbody tr th {\n",
       "        vertical-align: top;\n",
       "    }\n",
       "\n",
       "    .dataframe thead th {\n",
       "        text-align: right;\n",
       "    }\n",
       "</style>\n",
       "<table border=\"1\" class=\"dataframe\">\n",
       "  <thead>\n",
       "    <tr style=\"text-align: right;\">\n",
       "      <th></th>\n",
       "      <th>id</th>\n",
       "      <th>link_id</th>\n",
       "      <th>parent_id</th>\n",
       "      <th>name</th>\n",
       "      <th>author</th>\n",
       "      <th>subreddit_id</th>\n",
       "      <th>created_utc</th>\n",
       "      <th>retrieved_on</th>\n",
       "      <th>score</th>\n",
       "      <th>ups</th>\n",
       "      <th>downs</th>\n",
       "      <th>gilded</th>\n",
       "      <th>distinguished</th>\n",
       "      <th>controversiality</th>\n",
       "      <th>score_hidden</th>\n",
       "      <th>edited</th>\n",
       "      <th>archived</th>\n",
       "      <th>body</th>\n",
       "    </tr>\n",
       "  </thead>\n",
       "  <tbody>\n",
       "    <tr>\n",
       "      <th>0</th>\n",
       "      <td>cqug90g</td>\n",
       "      <td>t3_34di91</td>\n",
       "      <td>t3_34di91</td>\n",
       "      <td>t1_cqug90g</td>\n",
       "      <td>rx109</td>\n",
       "      <td>t5_378oi</td>\n",
       "      <td>1430438400</td>\n",
       "      <td>1432703079</td>\n",
       "      <td>4</td>\n",
       "      <td>4</td>\n",
       "      <td>0</td>\n",
       "      <td>0</td>\n",
       "      <td>None</td>\n",
       "      <td>0</td>\n",
       "      <td>0</td>\n",
       "      <td>0</td>\n",
       "      <td>0</td>\n",
       "      <td>くそ\\n読みたいが買ったら負けな気がする\\n図書館に出ねーかな</td>\n",
       "    </tr>\n",
       "    <tr>\n",
       "      <th>1</th>\n",
       "      <td>cqug90h</td>\n",
       "      <td>t3_34g8mx</td>\n",
       "      <td>t3_34g8mx</td>\n",
       "      <td>t1_cqug90h</td>\n",
       "      <td>WyaOfWade</td>\n",
       "      <td>t5_2qo4s</td>\n",
       "      <td>1430438400</td>\n",
       "      <td>1432703079</td>\n",
       "      <td>4</td>\n",
       "      <td>4</td>\n",
       "      <td>0</td>\n",
       "      <td>0</td>\n",
       "      <td>None</td>\n",
       "      <td>0</td>\n",
       "      <td>0</td>\n",
       "      <td>0</td>\n",
       "      <td>0</td>\n",
       "      <td>gg this one's over. off to watch the NFL draft...</td>\n",
       "    </tr>\n",
       "    <tr>\n",
       "      <th>2</th>\n",
       "      <td>cqug90i</td>\n",
       "      <td>t3_34f7mc</td>\n",
       "      <td>t1_cqufim0</td>\n",
       "      <td>t1_cqug90i</td>\n",
       "      <td>Wicked_Truth</td>\n",
       "      <td>t5_2cneq</td>\n",
       "      <td>1430438400</td>\n",
       "      <td>1432703079</td>\n",
       "      <td>0</td>\n",
       "      <td>0</td>\n",
       "      <td>0</td>\n",
       "      <td>0</td>\n",
       "      <td>None</td>\n",
       "      <td>0</td>\n",
       "      <td>0</td>\n",
       "      <td>0</td>\n",
       "      <td>0</td>\n",
       "      <td>Are you really implying we return to those tim...</td>\n",
       "    </tr>\n",
       "    <tr>\n",
       "      <th>3</th>\n",
       "      <td>cqug90j</td>\n",
       "      <td>t3_34f9rh</td>\n",
       "      <td>t1_cqug2sr</td>\n",
       "      <td>t1_cqug90j</td>\n",
       "      <td>jesse9o3</td>\n",
       "      <td>t5_2qh1i</td>\n",
       "      <td>1430438400</td>\n",
       "      <td>1432703079</td>\n",
       "      <td>3</td>\n",
       "      <td>3</td>\n",
       "      <td>0</td>\n",
       "      <td>0</td>\n",
       "      <td>None</td>\n",
       "      <td>0</td>\n",
       "      <td>0</td>\n",
       "      <td>0</td>\n",
       "      <td>0</td>\n",
       "      <td>No one has a European accent either  because i...</td>\n",
       "    </tr>\n",
       "    <tr>\n",
       "      <th>4</th>\n",
       "      <td>cqug90k</td>\n",
       "      <td>t3_34fvry</td>\n",
       "      <td>t3_34fvry</td>\n",
       "      <td>t1_cqug90k</td>\n",
       "      <td>beltfedshooter</td>\n",
       "      <td>t5_2qh1i</td>\n",
       "      <td>1430438400</td>\n",
       "      <td>1432703079</td>\n",
       "      <td>3</td>\n",
       "      <td>3</td>\n",
       "      <td>0</td>\n",
       "      <td>0</td>\n",
       "      <td>None</td>\n",
       "      <td>0</td>\n",
       "      <td>0</td>\n",
       "      <td>0</td>\n",
       "      <td>0</td>\n",
       "      <td>That the kid \"..reminds me of Kevin.\"   so sad...</td>\n",
       "    </tr>\n",
       "    <tr>\n",
       "      <th>...</th>\n",
       "      <td>...</td>\n",
       "      <td>...</td>\n",
       "      <td>...</td>\n",
       "      <td>...</td>\n",
       "      <td>...</td>\n",
       "      <td>...</td>\n",
       "      <td>...</td>\n",
       "      <td>...</td>\n",
       "      <td>...</td>\n",
       "      <td>...</td>\n",
       "      <td>...</td>\n",
       "      <td>...</td>\n",
       "      <td>...</td>\n",
       "      <td>...</td>\n",
       "      <td>...</td>\n",
       "      <td>...</td>\n",
       "      <td>...</td>\n",
       "      <td>...</td>\n",
       "    </tr>\n",
       "    <tr>\n",
       "      <th>54504395</th>\n",
       "      <td>crrbeoj</td>\n",
       "      <td>t3_37qart</td>\n",
       "      <td>t1_crow61z</td>\n",
       "      <td>t1_crrbeoj</td>\n",
       "      <td>TheMarraMan</td>\n",
       "      <td>t5_2tg3p</td>\n",
       "      <td>1433116799</td>\n",
       "      <td>1433505920</td>\n",
       "      <td>2</td>\n",
       "      <td>2</td>\n",
       "      <td>0</td>\n",
       "      <td>0</td>\n",
       "      <td>None</td>\n",
       "      <td>0</td>\n",
       "      <td>0</td>\n",
       "      <td>0</td>\n",
       "      <td>0</td>\n",
       "      <td>Shame the US didn't do the same with it's rema...</td>\n",
       "    </tr>\n",
       "    <tr>\n",
       "      <th>54504396</th>\n",
       "      <td>crrbeok</td>\n",
       "      <td>t3_380av9</td>\n",
       "      <td>t3_380av9</td>\n",
       "      <td>t1_crrbeok</td>\n",
       "      <td>peperawr</td>\n",
       "      <td>t5_2s1me</td>\n",
       "      <td>1433116799</td>\n",
       "      <td>1433505920</td>\n",
       "      <td>3</td>\n",
       "      <td>3</td>\n",
       "      <td>0</td>\n",
       "      <td>0</td>\n",
       "      <td>None</td>\n",
       "      <td>0</td>\n",
       "      <td>0</td>\n",
       "      <td>0</td>\n",
       "      <td>0</td>\n",
       "      <td>i think that the first pic looks fine</td>\n",
       "    </tr>\n",
       "    <tr>\n",
       "      <th>54504397</th>\n",
       "      <td>crrbeol</td>\n",
       "      <td>t3_37ylbt</td>\n",
       "      <td>t1_crrax2y</td>\n",
       "      <td>t1_crrbeol</td>\n",
       "      <td>Alcyoneous</td>\n",
       "      <td>t5_36buk</td>\n",
       "      <td>1433116799</td>\n",
       "      <td>1433505920</td>\n",
       "      <td>3</td>\n",
       "      <td>3</td>\n",
       "      <td>0</td>\n",
       "      <td>0</td>\n",
       "      <td>None</td>\n",
       "      <td>0</td>\n",
       "      <td>0</td>\n",
       "      <td>0</td>\n",
       "      <td>0</td>\n",
       "      <td>A filthy presser, hypocrite, AND genocidal man...</td>\n",
       "    </tr>\n",
       "    <tr>\n",
       "      <th>54504398</th>\n",
       "      <td>crrbeom</td>\n",
       "      <td>t3_37zeyc</td>\n",
       "      <td>t3_37zeyc</td>\n",
       "      <td>t1_crrbeom</td>\n",
       "      <td>JDFNTO</td>\n",
       "      <td>t5_2rfxx</td>\n",
       "      <td>1433116799</td>\n",
       "      <td>1433505920</td>\n",
       "      <td>0</td>\n",
       "      <td>0</td>\n",
       "      <td>0</td>\n",
       "      <td>0</td>\n",
       "      <td>None</td>\n",
       "      <td>0</td>\n",
       "      <td>0</td>\n",
       "      <td>0</td>\n",
       "      <td>0</td>\n",
       "      <td>Well, i've many accounts on plat with pretty h...</td>\n",
       "    </tr>\n",
       "    <tr>\n",
       "      <th>54504399</th>\n",
       "      <td>crrbeon</td>\n",
       "      <td>t3_37zyro</td>\n",
       "      <td>t1_crr8peg</td>\n",
       "      <td>t1_crrbeon</td>\n",
       "      <td>botulizard</td>\n",
       "      <td>t5_2qpwr</td>\n",
       "      <td>1433116799</td>\n",
       "      <td>1433505920</td>\n",
       "      <td>2</td>\n",
       "      <td>2</td>\n",
       "      <td>0</td>\n",
       "      <td>0</td>\n",
       "      <td>None</td>\n",
       "      <td>0</td>\n",
       "      <td>0</td>\n",
       "      <td>0</td>\n",
       "      <td>0</td>\n",
       "      <td>It's really incredible. I love being a UU.</td>\n",
       "    </tr>\n",
       "  </tbody>\n",
       "</table>\n",
       "<p>54504400 rows × 18 columns</p>\n",
       "</div>"
      ],
      "text/plain": [
       "               id  ...                                               body\n",
       "0         cqug90g  ...                    くそ\\n読みたいが買ったら負けな気がする\\n図書館に出ねーかな\n",
       "1         cqug90h  ...  gg this one's over. off to watch the NFL draft...\n",
       "2         cqug90i  ...  Are you really implying we return to those tim...\n",
       "3         cqug90j  ...  No one has a European accent either  because i...\n",
       "4         cqug90k  ...  That the kid \"..reminds me of Kevin.\"   so sad...\n",
       "...           ...  ...                                                ...\n",
       "54504395  crrbeoj  ...  Shame the US didn't do the same with it's rema...\n",
       "54504396  crrbeok  ...              i think that the first pic looks fine\n",
       "54504397  crrbeol  ...  A filthy presser, hypocrite, AND genocidal man...\n",
       "54504398  crrbeom  ...  Well, i've many accounts on plat with pretty h...\n",
       "54504399  crrbeon  ...         It's really incredible. I love being a UU.\n",
       "\n",
       "[54504400 rows x 18 columns]"
      ]
     },
     "execution_count": 10,
     "metadata": {},
     "output_type": "execute_result"
    }
   ],
   "source": [
    "comments"
   ]
  },
  {
   "cell_type": "markdown",
   "id": "57687430-f0ed-44e6-ab24-fac8cc978056",
   "metadata": {
    "tags": []
   },
   "source": [
    "### Sorting"
   ]
  },
  {
   "cell_type": "markdown",
   "id": "5acea6cd-e267-4f1c-88b8-1d2464953206",
   "metadata": {},
   "source": [
    "What are the most upvoted and downvoted comments in our dataset?"
   ]
  },
  {
   "cell_type": "code",
   "execution_count": 11,
   "id": "c2176381-8480-47b6-8342-cd1a31902960",
   "metadata": {},
   "outputs": [
    {
     "name": "stdout",
     "output_type": "stream",
     "text": [
      "CPU times: user 14.9 ms, sys: 0 ns, total: 14.9 ms\n",
      "Wall time: 36.1 s\n"
     ]
    }
   ],
   "source": [
    "%%time\n",
    "comments_best_scores = comments.sort_values(by=\"score\", ascending=False)"
   ]
  },
  {
   "cell_type": "markdown",
   "id": "9fd269f7-d4be-4699-b27e-725eb7c340c7",
   "metadata": {},
   "source": [
    "Around 40s for sorting a 38GB data set, not bad! We can now check the first and last line of the sorted comments:"
   ]
  },
  {
   "cell_type": "code",
   "execution_count": 12,
   "id": "d53cfbe4-6043-4b11-a635-b51fc9cf881c",
   "metadata": {},
   "outputs": [
    {
     "name": "stdout",
     "output_type": "stream",
     "text": [
      "Comment with score 6761:\n",
      "Then you got yourself a one night standoff.\n"
     ]
    }
   ],
   "source": [
    "best_comment = comments_best_scores.iloc[0, :]\n",
    "print(f\"Comment with score {best_comment['score']}:\\n{best_comment['body']}\")"
   ]
  },
  {
   "cell_type": "code",
   "execution_count": 13,
   "id": "cc346c75-edaf-4b21-846e-d61625a78992",
   "metadata": {},
   "outputs": [
    {
     "name": "stdout",
     "output_type": "stream",
     "text": [
      "Comment with score -1712:\n",
      "Long time redditor and English major here!\n",
      "\n",
      "I think /r/pics and potentially /r/all (because this is a quality submission) would appreciate if you would resubmit this post with a revised title. If it was confusing to me, it may be confusing for others.\n",
      "\n",
      "Might I suggest, *My friend Julia, a really good server, was made an instant fan of \"The Simpsons\" from chancing upon one of the directors during a shift.*\n",
      "\n",
      "I'd also suggest thinking of a different way to relate the story of how it happened. There is plentiful karma to be had by choosing the right words!\n",
      "\n",
      "Happy redditing :)\n"
     ]
    }
   ],
   "source": [
    "worst_comment = comments_best_scores.iloc[-1, :]\n",
    "print(f\"Comment with score {worst_comment['score']}:\\n{worst_comment['body']}\")"
   ]
  },
  {
   "cell_type": "markdown",
   "id": "e355cf6e-faa2-4d06-a56f-70dad1dbf912",
   "metadata": {
    "tags": []
   },
   "source": [
    "### Merging tables"
   ]
  },
  {
   "cell_type": "markdown",
   "id": "7052887a-6a6b-4bc7-ab48-60f1f4085a5f",
   "metadata": {},
   "source": [
    "Right now we have only one table related to comments. Let's add more information by adding some data related to the user who posted the comment and the subreddit where it was posted.\n",
    "- First we'll add users:"
   ]
  },
  {
   "cell_type": "code",
   "execution_count": 14,
   "id": "2f59e816-504c-4d00-b45c-904f8fd6d147",
   "metadata": {
    "tags": []
   },
   "outputs": [
    {
     "name": "stdout",
     "output_type": "stream",
     "text": [
      "<class 'terality.DataFrame'>\n",
      "Index: 2611446 entries, 0 to 2611445\n",
      "Data columns (total 3 columns):\n",
      " #   Column                  Non-Null Count  Dtype\n",
      "---  ------                  --------------  -----\n",
      " 0   author                  2611446 non-null  object\n",
      " 1   author_flair_css_class  528362 non-null  object\n",
      " 2   author_flair_text       525701 non-null  object\n",
      "dtypes: object(3)\n",
      "memory usage: 350.3 MB (run with deep=True)\n"
     ]
    }
   ],
   "source": [
    "users = te.read_parquet(f\"{s3_folder}users.parquet\")\n",
    "users.info()"
   ]
  },
  {
   "cell_type": "code",
   "execution_count": 15,
   "id": "ffa7c8e5-4b8e-4ba4-bbe7-1ee9f0e7a902",
   "metadata": {},
   "outputs": [
    {
     "name": "stdout",
     "output_type": "stream",
     "text": [
      "CPU times: user 32.7 ms, sys: 4.47 ms, total: 37.2 ms\n",
      "Wall time: 1min 31s\n"
     ]
    }
   ],
   "source": [
    "%%time\n",
    "comments = comments.merge(users, on=[\"author\"], how=\"left\")"
   ]
  },
  {
   "cell_type": "markdown",
   "id": "f455013f-ef6a-489e-bf1a-733afdd33c86",
   "metadata": {},
   "source": [
    "- and then subreddits:"
   ]
  },
  {
   "cell_type": "code",
   "execution_count": 16,
   "id": "8f6c93cf-0c2b-4eab-bde4-3c3e45c8600d",
   "metadata": {},
   "outputs": [
    {
     "name": "stdout",
     "output_type": "stream",
     "text": [
      "<class 'terality.DataFrame'>\n",
      "Index: 50138 entries, 0 to 50137\n",
      "Data columns (total 2 columns):\n",
      " #   Column        Non-Null Count  Dtype\n",
      "---  ------        --------------  -----\n",
      " 0   subreddit_id  50138 non-null  object\n",
      " 1   subreddit     50138 non-null  object\n",
      "dtypes: object(2)\n",
      "memory usage: 6.7 MB (run with deep=True)\n"
     ]
    }
   ],
   "source": [
    "subreddits = te.read_parquet(f\"{s3_folder}subreddits.parquet\")\n",
    "subreddits.info()"
   ]
  },
  {
   "cell_type": "code",
   "execution_count": 17,
   "id": "29a205bf-2578-4846-a065-6901594e0ba1",
   "metadata": {},
   "outputs": [
    {
     "name": "stdout",
     "output_type": "stream",
     "text": [
      "CPU times: user 49.1 ms, sys: 636 µs, total: 49.7 ms\n",
      "Wall time: 2min 2s\n"
     ]
    }
   ],
   "source": [
    "%%time\n",
    "comments = comments.merge(subreddits, on=[\"subreddit_id\"], how=\"left\")"
   ]
  },
  {
   "cell_type": "code",
   "execution_count": 18,
   "id": "ab147ded-c22e-4eed-be89-dd691d0b3c09",
   "metadata": {},
   "outputs": [
    {
     "data": {
      "text/plain": [
       "48459045898"
      ]
     },
     "execution_count": 18,
     "metadata": {},
     "output_type": "execute_result"
    }
   ],
   "source": [
    "comments.memory_usage(deep=True).sum()"
   ]
  },
  {
   "cell_type": "markdown",
   "id": "8fe38bb3-2514-4655-9f2d-240c69d764f7",
   "metadata": {},
   "source": [
    "After the merges, our dataset is now 44GB.\n",
    "\n",
    "Now that we have the full context of a comment, let's find out what are the most popular subreddits:"
   ]
  },
  {
   "cell_type": "code",
   "execution_count": 19,
   "id": "cf5c1c76-8a41-4d88-8091-624aba1d8b86",
   "metadata": {},
   "outputs": [
    {
     "data": {
      "text/plain": [
       "subreddit\n",
       "AskReddit               4234969\n",
       "leagueoflegends         1223184\n",
       "nba                      756195\n",
       "funny                    745916\n",
       "pics                     630924\n",
       "                         ...   \n",
       "1000aday                      1\n",
       "0rbitalis                     1\n",
       "0XhiVXJV1CXbP5lwA0Qc          1\n",
       "01s                           1\n",
       "00s                           1\n",
       "Length: 50138, dtype: int64"
      ]
     },
     "execution_count": 19,
     "metadata": {},
     "output_type": "execute_result"
    }
   ],
   "source": [
    "comments.value_counts(subset=[\"subreddit\"])"
   ]
  },
  {
   "cell_type": "markdown",
   "id": "63dc4061-1216-466b-b15c-6deab4cdd9e6",
   "metadata": {},
   "source": [
    "### Groupby aggregations"
   ]
  },
  {
   "cell_type": "markdown",
   "id": "f02b79d0-8db5-45ea-aed4-c8bfb4c4cfeb",
   "metadata": {},
   "source": [
    "Interested in some aggregated data? Who were the users with most upvoted and downvotes during this period?"
   ]
  },
  {
   "cell_type": "code",
   "execution_count": 20,
   "id": "1b420f06-12b4-4f75-99a3-97159a7e6999",
   "metadata": {},
   "outputs": [
    {
     "data": {
      "text/plain": [
       "author\n",
       "[deleted]          6497689\n",
       "Donald_Keyman       333499\n",
       "AutoModerator       278641\n",
       "diamondpatch        179002\n",
       "dick-nipples        147574\n",
       "                    ...   \n",
       "Kontiki1947          -4066\n",
       "TheMacMan            -5058\n",
       "MadrunBadrun         -5436\n",
       "ItWillBeMine         -6276\n",
       "tha_meme_master     -11238\n",
       "Name: ups, Length: 2611446, dtype: int64"
      ]
     },
     "execution_count": 20,
     "metadata": {},
     "output_type": "execute_result"
    }
   ],
   "source": [
    "comments.groupby(\"author\")[\"ups\"].sum().sort_values(ascending=False)"
   ]
  },
  {
   "cell_type": "markdown",
   "id": "33d11c1e-63ae-4f3c-b393-77afc06698a1",
   "metadata": {},
   "source": [
    "### Indexing"
   ]
  },
  {
   "cell_type": "markdown",
   "id": "3e8e652b-9c7c-4040-9201-1ce417e21bec",
   "metadata": {},
   "source": [
    "Being able to perform indexations on a huge datasets like this is also very convenient. We're going to find comments for certain users:"
   ]
  },
  {
   "cell_type": "code",
   "execution_count": 21,
   "id": "f6e91117-b3d0-45a7-8658-2dda0dd31fc2",
   "metadata": {},
   "outputs": [],
   "source": [
    "comments = comments.set_index(\"author\")"
   ]
  },
  {
   "cell_type": "markdown",
   "id": "a3da8efa-8653-4e65-953f-55f803f772c5",
   "metadata": {},
   "source": [
    "Note that Terality will only actually build the index the first time you perform and indexation as to not waste resources. This is why the following cell might take some time the first time you run it. On following indexations, only a quick look-up will be performed."
   ]
  },
  {
   "cell_type": "code",
   "execution_count": 22,
   "id": "8b1ac990-ae63-46d8-83f5-a19c07f2f1c0",
   "metadata": {},
   "outputs": [
    {
     "data": {
      "text/html": [
       "<div>\n",
       "<style scoped>\n",
       "    .dataframe tbody tr th:only-of-type {\n",
       "        vertical-align: middle;\n",
       "    }\n",
       "\n",
       "    .dataframe tbody tr th {\n",
       "        vertical-align: top;\n",
       "    }\n",
       "\n",
       "    .dataframe thead th {\n",
       "        text-align: right;\n",
       "    }\n",
       "</style>\n",
       "<table border=\"1\" class=\"dataframe\">\n",
       "  <thead>\n",
       "    <tr style=\"text-align: right;\">\n",
       "      <th></th>\n",
       "      <th>subreddit</th>\n",
       "      <th>score</th>\n",
       "      <th>body</th>\n",
       "    </tr>\n",
       "    <tr>\n",
       "      <th>author</th>\n",
       "      <th></th>\n",
       "      <th></th>\n",
       "      <th></th>\n",
       "    </tr>\n",
       "  </thead>\n",
       "  <tbody>\n",
       "    <tr>\n",
       "      <th>tha_meme_master</th>\n",
       "      <td>todayilearned</td>\n",
       "      <td>-48</td>\n",
       "      <td>Were you trying to make a joke? Your comment i...</td>\n",
       "    </tr>\n",
       "    <tr>\n",
       "      <th>tha_meme_master</th>\n",
       "      <td>mildlyinteresting</td>\n",
       "      <td>-14</td>\n",
       "      <td>Can we please stop it with these stupid pun th...</td>\n",
       "    </tr>\n",
       "    <tr>\n",
       "      <th>tha_meme_master</th>\n",
       "      <td>videos</td>\n",
       "      <td>-24</td>\n",
       "      <td>Can we please stop it with these stupid pun th...</td>\n",
       "    </tr>\n",
       "    <tr>\n",
       "      <th>tha_meme_master</th>\n",
       "      <td>mildlyinteresting</td>\n",
       "      <td>-32</td>\n",
       "      <td>Huh? Were you trying to make a joke, because i...</td>\n",
       "    </tr>\n",
       "    <tr>\n",
       "      <th>tha_meme_master</th>\n",
       "      <td>pics</td>\n",
       "      <td>-56</td>\n",
       "      <td>XD *le maymay alert* lel!1!1\\n\\nSeriously, I h...</td>\n",
       "    </tr>\n",
       "    <tr>\n",
       "      <th>...</th>\n",
       "      <td>...</td>\n",
       "      <td>...</td>\n",
       "      <td>...</td>\n",
       "    </tr>\n",
       "    <tr>\n",
       "      <th>tha_meme_master</th>\n",
       "      <td>atheism</td>\n",
       "      <td>-19</td>\n",
       "      <td>I'm sorry but I really think you could have ma...</td>\n",
       "    </tr>\n",
       "    <tr>\n",
       "      <th>tha_meme_master</th>\n",
       "      <td>pics</td>\n",
       "      <td>-23</td>\n",
       "      <td>(yes! I *fucking* love lyric threads! all aboa...</td>\n",
       "    </tr>\n",
       "    <tr>\n",
       "      <th>tha_meme_master</th>\n",
       "      <td>todayilearned</td>\n",
       "      <td>-184</td>\n",
       "      <td>ha ha lmao @ manlets ITT thinking 6'4 is tall;...</td>\n",
       "    </tr>\n",
       "    <tr>\n",
       "      <th>tha_meme_master</th>\n",
       "      <td>Unexpected</td>\n",
       "      <td>-219</td>\n",
       "      <td>ha ha ha! nice *le maymay* m'gentlesir! i love...</td>\n",
       "    </tr>\n",
       "    <tr>\n",
       "      <th>tha_meme_master</th>\n",
       "      <td>Unexpected</td>\n",
       "      <td>-113</td>\n",
       "      <td>No time at all! I relish every second. After a...</td>\n",
       "    </tr>\n",
       "  </tbody>\n",
       "</table>\n",
       "<p>287 rows × 3 columns</p>\n",
       "</div>"
      ],
      "text/plain": [
       "                         subreddit  ...                                               body\n",
       "author                              ...                                                   \n",
       "tha_meme_master      todayilearned  ...  Were you trying to make a joke? Your comment i...\n",
       "tha_meme_master  mildlyinteresting  ...  Can we please stop it with these stupid pun th...\n",
       "tha_meme_master             videos  ...  Can we please stop it with these stupid pun th...\n",
       "tha_meme_master  mildlyinteresting  ...  Huh? Were you trying to make a joke, because i...\n",
       "tha_meme_master               pics  ...  XD *le maymay alert* lel!1!1\\n\\nSeriously, I h...\n",
       "...                            ...  ...                                                ...\n",
       "tha_meme_master            atheism  ...  I'm sorry but I really think you could have ma...\n",
       "tha_meme_master               pics  ...  (yes! I *fucking* love lyric threads! all aboa...\n",
       "tha_meme_master      todayilearned  ...  ha ha lmao @ manlets ITT thinking 6'4 is tall;...\n",
       "tha_meme_master         Unexpected  ...  ha ha ha! nice *le maymay* m'gentlesir! i love...\n",
       "tha_meme_master         Unexpected  ...  No time at all! I relish every second. After a...\n",
       "\n",
       "[287 rows x 3 columns]"
      ]
     },
     "execution_count": 22,
     "metadata": {},
     "output_type": "execute_result"
    }
   ],
   "source": [
    "comments.loc[\"tha_meme_master\", [\"subreddit\", \"score\", \"body\"]]"
   ]
  },
  {
   "cell_type": "markdown",
   "id": "f58eae87-86e7-46fb-8238-e91335ef3310",
   "metadata": {},
   "source": [
    "Well, that was definitely not the result of a single bad comment!"
   ]
  },
  {
   "cell_type": "markdown",
   "id": "265865e9-fe6d-4837-b393-39df9f4f90e3",
   "metadata": {},
   "source": [
    "### Exporting data"
   ]
  },
  {
   "cell_type": "markdown",
   "id": "2f977c78-0327-42c5-9074-9e0bdd90b17e",
   "metadata": {},
   "source": [
    "Once you're done processing your data, you probably want to get it back. \n",
    "\n",
    "One option would be the `to_pandas()` function we saw earlier, but you might not want to download and try to fit in memory a 44GB dataframe. Only use `to_pandas()` if you want to continue working on the dataframe in pandas AND the dataframe is small enough to fit in memory!\n",
    "\n",
    "The usual way is to export your data as a parquet (or another format) file, either on disk or on on your own cloud provider. In this tutorial you have probably no interest in downloading the dataset, so you don't need to run this last cell:"
   ]
  },
  {
   "cell_type": "code",
   "execution_count": 23,
   "id": "e4aa9053-f205-4fb5-a005-ca66ebed19a7",
   "metadata": {},
   "outputs": [],
   "source": [
    "# export_path = \"...\"\n",
    "# comments.to_parquet(export_path)"
   ]
  },
  {
   "cell_type": "markdown",
   "id": "8e179121-67d6-490e-96ab-e24bd7dcc21c",
   "metadata": {},
   "source": [
    "## Conclusion"
   ]
  },
  {
   "cell_type": "markdown",
   "id": "33d9b426-0119-4582-a432-cb5dd62bebbe",
   "metadata": {},
   "source": [
    "You're now ready to use Terality.\n",
    "\n",
    "- you can keep on exploring the dataset, running other functions on it if you wish\n",
    "- you can start working on your own data\n",
    "- you can also check out the rest of the documentation for more details about Terality. The [User Guide](https://docs.terality.com/getting-terality/user-guide) is a great place to get started"
   ]
  },
  {
   "cell_type": "code",
   "execution_count": null,
   "id": "f20ddb25-b3ad-432b-bc4d-662e6f962ac3",
   "metadata": {},
   "outputs": [],
   "source": []
  }
 ],
 "metadata": {
  "kernelspec": {
   "display_name": "terality-user",
   "language": "python",
   "name": "terality-user"
  },
  "language_info": {
   "codemirror_mode": {
    "name": "ipython",
    "version": 3
   },
   "file_extension": ".py",
   "mimetype": "text/x-python",
   "name": "python",
   "nbconvert_exporter": "python",
   "pygments_lexer": "ipython3",
   "version": "3.9.6"
  }
 },
 "nbformat": 4,
 "nbformat_minor": 5
}
