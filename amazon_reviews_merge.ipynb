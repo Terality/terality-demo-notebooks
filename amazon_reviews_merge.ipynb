{
 "cells": [
  {
   "cell_type": "code",
   "execution_count": 8,
   "id": "4a8f9b7f",
   "metadata": {},
   "outputs": [],
   "source": [
    "import terality as pd"
   ]
  },
  {
   "cell_type": "code",
   "execution_count": 9,
   "id": "579df7ea",
   "metadata": {},
   "outputs": [],
   "source": [
    "df_amazon_reviews = pd.read_parquet('s3://terality-external-upload-data/amazon_reviews/parquet/product_category=Gift_Card/')"
   ]
  },
  {
   "cell_type": "code",
   "execution_count": 10,
   "id": "19ef94dc",
   "metadata": {},
   "outputs": [],
   "source": [
    "df_product = df_amazon_reviews[['marketplace', 'customer_id', 'review_id', 'product_id', 'product_parent', 'product_title', 'star_rating', 'helpful_votes', 'total_votes', 'vine']]"
   ]
  },
  {
   "cell_type": "code",
   "execution_count": 11,
   "id": "bfaf96d5",
   "metadata": {},
   "outputs": [],
   "source": [
    "df_review = df_amazon_reviews[['verified_purchase', 'review_date', 'review_id', 'review_headline', 'review_body', 'year']]"
   ]
  },
  {
   "cell_type": "code",
   "execution_count": 12,
   "id": "f91bc0d6",
   "metadata": {},
   "outputs": [],
   "source": [
    "df_merged = df_product.merge(df_review, on='review_id')"
   ]
  },
  {
   "cell_type": "code",
   "execution_count": 13,
   "id": "014f8870",
   "metadata": {},
   "outputs": [
    {
     "name": "stdout",
     "output_type": "stream",
     "text": [
      "<class 'terality.DataFrame'>\n",
      "Index: 149086 entries, 0 to 149085\n",
      "Data columns (total 15 columns):\n",
      " #   Column             Non-Null Count  Dtype\n",
      "---  ------             --------------  -----\n",
      " 0   marketplace        149086 non-null  StringObject\n",
      " 1   customer_id        149086 non-null  StringObject\n",
      " 2   review_id          149086 non-null  StringObject\n",
      " 3   product_id         149086 non-null  StringObject\n",
      " 4   product_parent     149086 non-null  StringObject\n",
      " 5   product_title      149086 non-null  StringObject\n",
      " 6   star_rating        149086 non-null  Int32\n",
      " 7   helpful_votes      149086 non-null  Int32\n",
      " 8   total_votes        149086 non-null  Int32\n",
      " 9   vine               149086 non-null  StringObject\n",
      "10   verified_purchase  149086 non-null  StringObject\n",
      "11   review_date        149086 non-null  Date \n",
      "12   review_headline    149086 non-null  StringObject\n",
      "13   review_body        149085 non-null  StringObject\n",
      "14   year               149086 non-null  Int32\n",
      "dtypes: StringObject(10), Int32(4), Date(1)\n",
      "memory usage: 123.1 MB"
     ]
    }
   ],
   "source": [
    "df_merged.info()"
   ]
  },
  {
   "cell_type": "code",
   "execution_count": null,
   "id": "aa383a6a",
   "metadata": {},
   "outputs": [],
   "source": []
  }
 ],
 "metadata": {
  "kernelspec": {
   "display_name": "Python 3",
   "language": "python",
   "name": "python3"
  },
  "language_info": {
   "codemirror_mode": {
    "name": "ipython",
    "version": 3
   },
   "file_extension": ".py",
   "mimetype": "text/x-python",
   "name": "python",
   "nbconvert_exporter": "python",
   "pygments_lexer": "ipython3",
   "version": "3.7.3"
  }
 },
 "nbformat": 4,
 "nbformat_minor": 5
}
